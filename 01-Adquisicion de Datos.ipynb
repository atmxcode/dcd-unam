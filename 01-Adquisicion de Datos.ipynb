{
 "cells": [
  {
   "cell_type": "markdown",
   "id": "484786ba-cd73-4c48-b980-773de9be1db2",
   "metadata": {
    "tags": []
   },
   "source": [
    "# Diplomado Ciencia de Datos\n",
    "## Procesamiento de Lenguaje Natural\n",
    "### Análisis de Sentimiento en la Red Social Twitter\n",
    "\n",
    "#### 1. Adquisición de Datos"
   ]
  },
  {
   "cell_type": "code",
   "execution_count": 1,
   "id": "f627f7fd-bbed-442c-99aa-413e206a907d",
   "metadata": {
    "tags": []
   },
   "outputs": [
    {
     "name": "stdout",
     "output_type": "stream",
     "text": [
      "Last updated: 2023-02-14T07:26:10.016653-06:00\n",
      "\n",
      "Python implementation: CPython\n",
      "Python version       : 3.10.6\n",
      "IPython version      : 8.4.0\n",
      "\n",
      "Compiler    : Clang 13.0.1 \n",
      "OS          : Darwin\n",
      "Release     : 21.6.0\n",
      "Machine     : x86_64\n",
      "Processor   : i386\n",
      "CPU cores   : 4\n",
      "Architecture: 64bit\n",
      "\n"
     ]
    }
   ],
   "source": [
    "# Extensión Python para imprimir fecha, hora, versión y datos de hardware\n",
    "\n",
    "%load_ext watermark\n",
    "%watermark"
   ]
  },
  {
   "cell_type": "code",
   "execution_count": 8,
   "id": "db683ed1-6ca1-4f3a-bfd0-8ab745c1c3d3",
   "metadata": {},
   "outputs": [],
   "source": [
    "# Se utilizan las bibliotecas snscrape y pandas\n",
    "\n",
    "# snscrape es una biblioteca en lenguaje Python que se puede utilizar para importar\n",
    "# tweets sin restricciones o límite de solicitudes.\n",
    "\n",
    "import snscrape.modules.twitter as sntwitter\n",
    "import pandas as pd"
   ]
  },
  {
   "cell_type": "code",
   "execution_count": 9,
   "id": "c354ab68-8517-4101-9969-dcf37aeefcac",
   "metadata": {},
   "outputs": [],
   "source": [
    "# Control de advertencias\n",
    "\n",
    "import warnings\n",
    "warnings.filterwarnings('ignore')"
   ]
  },
  {
   "cell_type": "code",
   "execution_count": 18,
   "id": "abb035b8-f8ef-48ea-881f-75c4f37d7637",
   "metadata": {},
   "outputs": [],
   "source": [
    "# Se definen las características de búsqueda de tweets\n",
    "\n",
    "query = \"(DosBocas) until:2022-12-31 since:2022-01-01\"\n",
    "limit = 25000"
   ]
  },
  {
   "cell_type": "code",
   "execution_count": 19,
   "id": "3c2de540-f06b-47a6-866b-2fad47d212ba",
   "metadata": {},
   "outputs": [
    {
     "name": "stdout",
     "output_type": "stream",
     "text": [
      "                           Date             User  \\\n",
      "0     2022-12-30 23:57:05+00:00       rvilchis01   \n",
      "1     2022-12-30 23:54:00+00:00    PoliticaalDia   \n",
      "2     2022-12-30 23:51:00+00:00  espinozagerardo   \n",
      "3     2022-12-30 23:02:07+00:00         ARSAL_es   \n",
      "4     2022-12-30 22:39:56+00:00    octaviofmejia   \n",
      "...                         ...              ...   \n",
      "20872 2022-01-01 20:41:22+00:00     Sruizesparza   \n",
      "20873 2022-01-01 19:19:53+00:00      izakOficial   \n",
      "20874 2022-01-01 18:37:28+00:00     UzielMedinaM   \n",
      "20875 2022-01-01 17:30:20+00:00           jhmm61   \n",
      "20876 2022-01-01 03:53:49+00:00  puerto_dosbocas   \n",
      "\n",
      "                                                   Tweet  \n",
      "0      Mañana sale el primer barril? @rocionahle quie...  \n",
      "1      DOS BOCAS SIGUE EN SILENCIO: 'NI UNA GOTA, NI ...  \n",
      "2           @RefineriaDosBoc #DosBocas inundado otra vez  \n",
      "3      @EmanuelDiloren3 @FelipeCalderon A base y meme...  \n",
      "4      @GlodeJo07 Hasta 2080 #DosBocas va a refinar s...  \n",
      "...                                                  ...  \n",
      "20872  @ClouthierManuel @DrLorenzoMeyer @lopezobrador...  \n",
      "20873  ¿ ya tiraron el Tren Maya, el NAICM “Felipe An...  \n",
      "20874  Y también el #AIFA #SantaLucía y la Refinería ...  \n",
      "20875  #NoALosMegaProyectos de .#DonPendejo .@lopezob...  \n",
      "20876  La Administración del Sistema Portuario Nacion...  \n",
      "\n",
      "[20877 rows x 3 columns]\n"
     ]
    }
   ],
   "source": [
    "# Se recopilan los tweets \n",
    "\n",
    "tweets = []\n",
    "\n",
    "for tweet in sntwitter.TwitterSearchScraper(query).get_items():\n",
    "    \n",
    "    if len(tweets) == limit:\n",
    "        break\n",
    "    else:\n",
    "        tweets.append([tweet.date, tweet.username, tweet.content])\n",
    "\n",
    "# Se almacenan tweets recopilados\n",
    "\n",
    "df = pd.DataFrame(tweets, columns=['Date', 'User', 'Tweet'])\n",
    "\n",
    "df.to_csv('tweets.csv')\n",
    "\n",
    "# Se imprime una muestra del DataFrame\n",
    "\n",
    "print(df)\n",
    "\n",
    "# Se describe el tamaño del DataFrame\n",
    "\n",
    "len(df)"
   ]
  },
  {
   "cell_type": "code",
   "execution_count": null,
   "id": "89cab2d9-c457-43a6-a3cb-13e6eca16ca0",
   "metadata": {},
   "outputs": [],
   "source": []
  }
 ],
 "metadata": {
  "kernelspec": {
   "display_name": "Python 3 (ipykernel)",
   "language": "python",
   "name": "python3"
  },
  "language_info": {
   "codemirror_mode": {
    "name": "ipython",
    "version": 3
   },
   "file_extension": ".py",
   "mimetype": "text/x-python",
   "name": "python",
   "nbconvert_exporter": "python",
   "pygments_lexer": "ipython3",
   "version": "3.9.13"
  }
 },
 "nbformat": 4,
 "nbformat_minor": 5
}
